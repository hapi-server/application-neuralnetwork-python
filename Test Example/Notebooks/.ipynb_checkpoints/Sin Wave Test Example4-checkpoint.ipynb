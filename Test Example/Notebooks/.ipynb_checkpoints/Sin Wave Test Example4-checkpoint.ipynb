{
 "cells": [
  {
   "cell_type": "markdown",
   "id": "5f6e4989",
   "metadata": {
    "tags": []
   },
   "source": [
    "# Sin Wave Test Example\n",
    "This example tests the code by training on inputing and outputing more future points along a sin wave."
   ]
  },
  {
   "cell_type": "markdown",
   "id": "1fd8bfd6",
   "metadata": {
    "tags": []
   },
   "source": [
    "## Setup\n",
    "Import HAPI and other packages"
   ]
  },
  {
   "cell_type": "code",
   "execution_count": 1,
   "id": "7b559061",
   "metadata": {
    "tags": []
   },
   "outputs": [],
   "source": [
    "from hapiclient import hapi, hapitime2datetime\n",
    "from datetime import datetime\n",
    "from hapiplot import hapiplot\n",
    "from hapi_nn import HAPINNTrainer, HAPINNTester, config\n",
    "import hapi_nn\n",
    "import numpy as np\n",
    "import math\n",
    "import warnings\n",
    "import matplotlib.pyplot as plt\n",
    "%matplotlib inline"
   ]
  },
  {
   "cell_type": "code",
   "execution_count": 2,
   "id": "e0587ffa-5cf7-4671-bea6-552a2f3d2a4b",
   "metadata": {},
   "outputs": [],
   "source": [
    "warnings.simplefilter('always')"
   ]
  },
  {
   "cell_type": "markdown",
   "id": "03df6b9b-6db9-431e-aaae-4a49941d1d87",
   "metadata": {
    "tags": []
   },
   "source": [
    "### HAPI Setup\n",
    "Set HAPI related parameters"
   ]
  },
  {
   "cell_type": "code",
   "execution_count": 3,
   "id": "7ba4ce64-1409-43f7-b1d2-89bfe58236cc",
   "metadata": {},
   "outputs": [],
   "source": [
    "config.MODEL_ENGINE = 'TENSORFLOW'\n",
    "\n",
    "server = 'http://hapi-server.org/servers/TestData2.0/hapi'\n",
    "dataset = 'dataset1'\n",
    "start = '1970-01-01T00:00:00Z'\n",
    "stop = '1970-01-02T00:00:00Z'\n",
    "\n",
    "start2 = '1970-01-02T01:00:00Z'\n",
    "stop2 = '1970-01-02T04:00:00Z'\n",
    "\n",
    "parameters = 'scalar,vector'\n",
    "options = {'logging': True, 'usecache': True, 'cachedir': './hapicache'}"
   ]
  },
  {
   "cell_type": "markdown",
   "id": "ccb35f1c-5144-494d-9006-72234172e796",
   "metadata": {},
   "source": [
    "## HAPI-NN Testing\n",
    "Begin testing HAPI-NN"
   ]
  },
  {
   "cell_type": "code",
   "execution_count": 4,
   "id": "45629a58-186a-4d85-a8bd-b1c6cbeb1ce3",
   "metadata": {},
   "outputs": [],
   "source": [
    "in_steps = 512\n",
    "out_steps = 1024"
   ]
  },
  {
   "cell_type": "markdown",
   "id": "e2d8d507-8b17-49fe-8794-bc164e1da4c6",
   "metadata": {},
   "source": [
    "### Create Trainer and Tester as well as load data with HAPI"
   ]
  },
  {
   "cell_type": "markdown",
   "id": "fd5caa4a-fbc8-41d4-8fe0-bc74ffaea592",
   "metadata": {},
   "source": [
    "Create Trainer"
   ]
  },
  {
   "cell_type": "code",
   "execution_count": 5,
   "id": "139758d9-be16-4128-8f92-63066325d431",
   "metadata": {},
   "outputs": [
    {
     "name": "stderr",
     "output_type": "stream",
     "text": [
      "/home/jovyan/users_conda_envs/HAPINN/lib/python3.10/site-packages/flatbuffers/compat.py:19: DeprecationWarning: the imp module is deprecated in favour of importlib and slated for removal in Python 3.12; see the module's documentation for alternative uses\n",
      "  import imp\n",
      "/home/jovyan/users_conda_envs/HAPINN/lib/python3.10/site-packages/keras_preprocessing/image/utils.py:23: DeprecationWarning: NEAREST is deprecated and will be removed in Pillow 10 (2023-07-01). Use Resampling.NEAREST or Dither.NONE instead.\n",
      "  'nearest': pil_image.NEAREST,\n",
      "/home/jovyan/users_conda_envs/HAPINN/lib/python3.10/site-packages/keras_preprocessing/image/utils.py:24: DeprecationWarning: BILINEAR is deprecated and will be removed in Pillow 10 (2023-07-01). Use Resampling.BILINEAR instead.\n",
      "  'bilinear': pil_image.BILINEAR,\n",
      "/home/jovyan/users_conda_envs/HAPINN/lib/python3.10/site-packages/keras_preprocessing/image/utils.py:25: DeprecationWarning: BICUBIC is deprecated and will be removed in Pillow 10 (2023-07-01). Use Resampling.BICUBIC instead.\n",
      "  'bicubic': pil_image.BICUBIC,\n",
      "/home/jovyan/users_conda_envs/HAPINN/lib/python3.10/site-packages/keras_preprocessing/image/utils.py:28: DeprecationWarning: HAMMING is deprecated and will be removed in Pillow 10 (2023-07-01). Use Resampling.HAMMING instead.\n",
      "  if hasattr(pil_image, 'HAMMING'):\n",
      "/home/jovyan/users_conda_envs/HAPINN/lib/python3.10/site-packages/keras_preprocessing/image/utils.py:29: DeprecationWarning: HAMMING is deprecated and will be removed in Pillow 10 (2023-07-01). Use Resampling.HAMMING instead.\n",
      "  _PIL_INTERPOLATION_METHODS['hamming'] = pil_image.HAMMING\n",
      "/home/jovyan/users_conda_envs/HAPINN/lib/python3.10/site-packages/keras_preprocessing/image/utils.py:30: DeprecationWarning: BOX is deprecated and will be removed in Pillow 10 (2023-07-01). Use Resampling.BOX instead.\n",
      "  if hasattr(pil_image, 'BOX'):\n",
      "/home/jovyan/users_conda_envs/HAPINN/lib/python3.10/site-packages/keras_preprocessing/image/utils.py:31: DeprecationWarning: BOX is deprecated and will be removed in Pillow 10 (2023-07-01). Use Resampling.BOX instead.\n",
      "  _PIL_INTERPOLATION_METHODS['box'] = pil_image.BOX\n",
      "/home/jovyan/users_conda_envs/HAPINN/lib/python3.10/site-packages/keras_preprocessing/image/utils.py:33: DeprecationWarning: LANCZOS is deprecated and will be removed in Pillow 10 (2023-07-01). Use Resampling.LANCZOS instead.\n",
      "  if hasattr(pil_image, 'LANCZOS'):\n",
      "/home/jovyan/users_conda_envs/HAPINN/lib/python3.10/site-packages/keras_preprocessing/image/utils.py:34: DeprecationWarning: LANCZOS is deprecated and will be removed in Pillow 10 (2023-07-01). Use Resampling.LANCZOS instead.\n",
      "  _PIL_INTERPOLATION_METHODS['lanczos'] = pil_image.LANCZOS\n"
     ]
    }
   ],
   "source": [
    "splits = (.7, .2, .1)  # Train, Validation, Test\n",
    "    \n",
    "trainer = HAPINNTrainer(\n",
    "    splits, in_steps, out_steps,\n",
    "    preprocess_func=None,\n",
    "    preprocess_y_func=None,\n",
    "    lag=True\n",
    ")"
   ]
  },
  {
   "cell_type": "markdown",
   "id": "fb61b620-a667-408e-8e32-05932e57c026",
   "metadata": {},
   "source": [
    "Load data for Training"
   ]
  },
  {
   "cell_type": "markdown",
   "id": "d59f654d-6f7e-45f6-b188-7efa1945eaa2",
   "metadata": {},
   "source": [
    "Model input will come from scalar and vector in HAPI dataset. The output comes from the first element in the column.\n",
    "The input is lagged behind the output, so we are forecasting the outputs based on the inputs."
   ]
  },
  {
   "cell_type": "code",
   "execution_count": 6,
   "id": "fbc6ad35-7834-4f8b-a64e-35675309cabb",
   "metadata": {},
   "outputs": [
    {
     "name": "stdout",
     "output_type": "stream",
     "text": [
      "hapi(): Running hapi.py version 0.2.4\n",
      "hapi(): file directory = ./hapicache/hapi-server.org_servers_TestData2.0_hapi\n",
      "hapi(): Reading dataset1_scalar-vector_19700101T000000_19700102T000000.pkl\n",
      "hapi(): Reading dataset1_scalar-vector_19700101T000000_19700102T000000.npy \n"
     ]
    },
    {
     "name": "stderr",
     "output_type": "stream",
     "text": [
      "/home/jovyan/HAPI_NN/hapi_nn/training.py:144: UserWarning: Time gaps exist in the data.\n",
      "  warnings.warn('Time gaps exist in the data.')\n",
      "/home/jovyan/HAPI_NN/hapi_nn/training.py:185: UserWarning: Removed data gab at index 0. Length of gab (10) was too small. Split size (0) is less than minimum step size (1536).\n",
      "  warnings.warn(f'Removed data gab at index {ndx}. '\n",
      "/home/jovyan/HAPI_NN/hapi_nn/training.py:190: UserWarning: Data points with time gaps that caused too small of splits where removed. Removed 1 out of 2 gaps.\n",
      "  warnings.warn('Data points with time gaps that caused '\n"
     ]
    },
    {
     "data": {
      "text/plain": [
       "1.0"
      ]
     },
     "execution_count": 6,
     "metadata": {},
     "output_type": "execute_result"
    }
   ],
   "source": [
    "data, meta = hapi(server, dataset, parameters, start, stop, **options)\n",
    "trainer.set_hapidatas([data], xyparameters=[['scalar', 'vector'], ['vector_0']])"
   ]
  },
  {
   "cell_type": "markdown",
   "id": "57245849-05f1-49fb-8f67-11b67170346e",
   "metadata": {},
   "source": [
    "Prepare the downloaded data for training"
   ]
  },
  {
   "cell_type": "code",
   "execution_count": 7,
   "id": "43d5f4b9-5d1a-49ee-a314-240cf1ec99fc",
   "metadata": {},
   "outputs": [
    {
     "name": "stderr",
     "output_type": "stream",
     "text": [
      "/home/jovyan/HAPI_NN/hapi_nn/training.py:361: VisibleDeprecationWarning: Creating an ndarray from ragged nested sequences (which is a list-or-tuple of lists-or-tuples-or ndarrays with different lengths or shapes) is deprecated. If you meant to do this, you must specify 'dtype=object' when creating the ndarray.\n",
      "  data = np.array(data)\n",
      "/home/jovyan/HAPI_NN/hapi_nn/training.py:372: VisibleDeprecationWarning: Creating an ndarray from ragged nested sequences (which is a list-or-tuple of lists-or-tuples-or ndarrays with different lengths or shapes) is deprecated. If you meant to do this, you must specify 'dtype=object' when creating the ndarray.\n",
      "  data = np.array(remerge_data)\n",
      "/home/jovyan/HAPI_NN/hapi_nn/training.py:375: VisibleDeprecationWarning: Creating an ndarray from ragged nested sequences (which is a list-or-tuple of lists-or-tuples-or ndarrays with different lengths or shapes) is deprecated. If you meant to do this, you must specify 'dtype=object' when creating the ndarray.\n",
      "  y_data = np.array(y_data)\n",
      "/home/jovyan/HAPI_NN/hapi_nn/training.py:386: VisibleDeprecationWarning: Creating an ndarray from ragged nested sequences (which is a list-or-tuple of lists-or-tuples-or ndarrays with different lengths or shapes) is deprecated. If you meant to do this, you must specify 'dtype=object' when creating the ndarray.\n",
      "  y_data = np.array(remerge_data)\n"
     ]
    },
    {
     "data": {
      "text/plain": [
       "(0.763007734900038, 0.15688180678247884, 0.08011045831748313)"
      ]
     },
     "execution_count": 7,
     "metadata": {},
     "output_type": "execute_result"
    }
   ],
   "source": [
    "trainer.prepare_data()"
   ]
  },
  {
   "cell_type": "markdown",
   "id": "dc627349-8b80-441e-9ab5-3abb21f78b41",
   "metadata": {},
   "source": [
    "Test saving and loading"
   ]
  },
  {
   "cell_type": "code",
   "execution_count": 8,
   "id": "e1a908fe-80f3-440b-80af-41c27646123e",
   "metadata": {},
   "outputs": [],
   "source": [
    "trainer.save_prepared_data('data')"
   ]
  },
  {
   "cell_type": "code",
   "execution_count": 9,
   "id": "5abed8cb-845b-47b4-a8b4-536fcaeba27b",
   "metadata": {},
   "outputs": [],
   "source": [
    "trainer.load_prepared_data('./data')"
   ]
  },
  {
   "cell_type": "markdown",
   "id": "090267f3-f6fe-4d6a-94bd-adc6604180b9",
   "metadata": {},
   "source": [
    "Create Tester"
   ]
  },
  {
   "cell_type": "code",
   "execution_count": 10,
   "id": "8a26dd4c-07af-4b02-9f66-a847dd877665",
   "metadata": {},
   "outputs": [],
   "source": [
    "tester = HAPINNTester(\n",
    "    in_steps, out_steps,\n",
    "    preprocess_func=None,\n",
    "    preprocess_y_func=None\n",
    ")"
   ]
  },
  {
   "cell_type": "markdown",
   "id": "09a53ea4-7ec8-4b45-8eb5-1f0288ca24f7",
   "metadata": {},
   "source": [
    "Load data for testing"
   ]
  },
  {
   "cell_type": "code",
   "execution_count": 11,
   "id": "6d4f1eed-81bb-468f-8ba6-17dc4f5e9301",
   "metadata": {},
   "outputs": [
    {
     "name": "stdout",
     "output_type": "stream",
     "text": [
      "hapi(): Running hapi.py version 0.2.4\n",
      "hapi(): file directory = ./hapicache/hapi-server.org_servers_TestData2.0_hapi\n",
      "hapi(): Reading dataset1_scalar-vector_19700102T010000_19700102T040000.pkl\n",
      "hapi(): Reading dataset1_scalar-vector_19700102T010000_19700102T040000.npy \n"
     ]
    },
    {
     "data": {
      "text/plain": [
       "1.0"
      ]
     },
     "execution_count": 11,
     "metadata": {},
     "output_type": "execute_result"
    }
   ],
   "source": [
    "data, meta = hapi(server, dataset, parameters, start2, stop2, **options)\n",
    "tester.set_hapidatas([data], xyparameters=[['scalar', 'vector'], ['vector_0']])"
   ]
  },
  {
   "cell_type": "markdown",
   "id": "1e2e4b0d-7390-44f2-b889-bebd42004d8f",
   "metadata": {},
   "source": [
    "Prepare data for testing"
   ]
  },
  {
   "cell_type": "code",
   "execution_count": 12,
   "id": "78b5c328-df3e-4e8a-b4b2-9a1e6fba25e3",
   "metadata": {},
   "outputs": [],
   "source": [
    "tester.prepare_data()"
   ]
  },
  {
   "cell_type": "markdown",
   "id": "26da9ec6-7f9a-42df-8832-f4f8ed6d9c9d",
   "metadata": {
    "tags": []
   },
   "source": [
    "### Create Models and Train"
   ]
  },
  {
   "cell_type": "markdown",
   "id": "ac2f2137-9cde-4926-b8ad-8b56950b1830",
   "metadata": {},
   "source": [
    "Import either the modules for PyTorch or TensorFlow"
   ]
  },
  {
   "cell_type": "code",
   "execution_count": 13,
   "id": "dfe068d8-b3d4-4c05-b8eb-621909f20354",
   "metadata": {},
   "outputs": [],
   "source": [
    "if config.MODEL_ENGINE == 'TORCH':\n",
    "    import torch\n",
    "    import torch.nn as nn\n",
    "    from torch.utils.data import TensorDataset, DataLoader\n",
    "else:\n",
    "    import tensorflow as tf\n",
    "    from tensorflow import keras"
   ]
  },
  {
   "cell_type": "markdown",
   "id": "ec270144-30b6-4cf4-8c23-d578aa094875",
   "metadata": {},
   "source": [
    "Create PyTorch Module or TensorFlow Model"
   ]
  },
  {
   "cell_type": "code",
   "execution_count": 14,
   "id": "75ccfa84-476b-43da-95be-acf7bcdcb83a",
   "metadata": {
    "tags": []
   },
   "outputs": [
    {
     "name": "stderr",
     "output_type": "stream",
     "text": [
      "2022-08-09 19:50:32.409772: I tensorflow/core/platform/cpu_feature_guard.cc:151] This TensorFlow binary is optimized with oneAPI Deep Neural Network Library (oneDNN) to use the following CPU instructions in performance-critical operations:  SSE4.1 SSE4.2 AVX AVX2 AVX512F FMA\n",
      "To enable them in other operations, rebuild TensorFlow with the appropriate compiler flags.\n"
     ]
    },
    {
     "name": "stdout",
     "output_type": "stream",
     "text": [
      "Model: \"model\"\n",
      "_________________________________________________________________\n",
      " Layer (type)                Output Shape              Param #   \n",
      "=================================================================\n",
      " input_1 (InputLayer)        [(None, 512, 4)]          0         \n",
      "                                                                 \n",
      " conv1d (Conv1D)             (None, 256, 16)           336       \n",
      "                                                                 \n",
      " conv1d_1 (Conv1D)           (None, 128, 16)           1296      \n",
      "                                                                 \n",
      " conv1d_2 (Conv1D)           (None, 64, 16)            1296      \n",
      "                                                                 \n",
      " conv1d_3 (Conv1D)           (None, 32, 16)            1296      \n",
      "                                                                 \n",
      " conv1d_4 (Conv1D)           (None, 16, 16)            1296      \n",
      "                                                                 \n",
      " conv1d_5 (Conv1D)           (None, 8, 16)             1296      \n",
      "                                                                 \n",
      " conv1d_6 (Conv1D)           (None, 4, 16)             1296      \n",
      "                                                                 \n",
      " conv1d_7 (Conv1D)           (None, 2, 16)             1296      \n",
      "                                                                 \n",
      " conv1d_8 (Conv1D)           (None, 1, 16)             528       \n",
      "                                                                 \n",
      " conv1d_transpose (Conv1DTra  (None, 2, 16)            528       \n",
      " nspose)                                                         \n",
      "                                                                 \n",
      " conv1d_transpose_1 (Conv1DT  (None, 4, 16)            1296      \n",
      " ranspose)                                                       \n",
      "                                                                 \n",
      " conv1d_transpose_2 (Conv1DT  (None, 8, 16)            1296      \n",
      " ranspose)                                                       \n",
      "                                                                 \n",
      " conv1d_transpose_3 (Conv1DT  (None, 16, 16)           1296      \n",
      " ranspose)                                                       \n",
      "                                                                 \n",
      " conv1d_transpose_4 (Conv1DT  (None, 32, 16)           1296      \n",
      " ranspose)                                                       \n",
      "                                                                 \n",
      " conv1d_transpose_5 (Conv1DT  (None, 64, 16)           1296      \n",
      " ranspose)                                                       \n",
      "                                                                 \n",
      " conv1d_transpose_6 (Conv1DT  (None, 128, 16)          1296      \n",
      " ranspose)                                                       \n",
      "                                                                 \n",
      " conv1d_transpose_7 (Conv1DT  (None, 256, 16)          1296      \n",
      " ranspose)                                                       \n",
      "                                                                 \n",
      " conv1d_transpose_8 (Conv1DT  (None, 512, 16)          1296      \n",
      " ranspose)                                                       \n",
      "                                                                 \n",
      " conv1d_transpose_9 (Conv1DT  (None, 1024, 16)         1296      \n",
      " ranspose)                                                       \n",
      "                                                                 \n",
      " conv1d_9 (Conv1D)           (None, 1024, 1)           17        \n",
      "                                                                 \n",
      "=================================================================\n",
      "Total params: 22,145\n",
      "Trainable params: 22,145\n",
      "Non-trainable params: 0\n",
      "_________________________________________________________________\n"
     ]
    },
    {
     "name": "stderr",
     "output_type": "stream",
     "text": [
      "/home/jovyan/users_conda_envs/HAPINN/lib/python3.10/site-packages/keras/optimizer_v2/adam.py:105: UserWarning: The `lr` argument is deprecated, use `learning_rate` instead.\n",
      "  super(Adam, self).__init__(name, **kwargs)\n"
     ]
    }
   ],
   "source": [
    "if config.MODEL_ENGINE == 'TORCH':\n",
    "    class Conv1dSamePadding(nn.Conv1d):\n",
    "        def forward(self, x):\n",
    "            pad = max(\n",
    "                (math.ceil(x.size()[-1] / self.stride[0]) - 1) *\n",
    "                self.stride[0] + (self.kernel_size[0] - 1) + 1 - x.size()[-1], 0\n",
    "            )\n",
    "            if pad > 1:\n",
    "                x = nn.functional.pad(x, (pad // 2, 1 + pad // 2))\n",
    "            return  self._conv_forward(x, self.weight, self.bias)\n",
    "\n",
    "    class Conv1dTransposeSamePadding(nn.ConvTranspose1d):\n",
    "        def forward(self, x):\n",
    "            pad = max(\n",
    "                (math.ceil(x.size()[-1] / self.stride[0]) - 1) *\n",
    "                self.stride[0] + (self.kernel_size[0] - 1) + 1 - x.size()[-1], 0\n",
    "            )\n",
    "            x = nn.ConvTranspose1d.forward(self, x)\n",
    "            return x[:, :, pad // 2:-(1 + pad // 2)]\n",
    "        \n",
    "    class S2S(nn.Module):\n",
    "        def __init__(self, units_in, units_out, hidden_units):\n",
    "            super().__init__()\n",
    "            self.units_in = units_in\n",
    "            self.units_out = units_out\n",
    "            self.hidden_units = hidden_units\n",
    "\n",
    "            self.conv1 = Conv1dSamePadding(units_in, hidden_units, 5, stride=2)\n",
    "            self.conv2 = Conv1dSamePadding(hidden_units, hidden_units, 5, stride=2)\n",
    "            self.conv3 = Conv1dSamePadding(hidden_units, hidden_units, 5, stride=2)\n",
    "            self.conv4 = Conv1dSamePadding(hidden_units, hidden_units, 5, stride=2)\n",
    "            self.conv5 = Conv1dSamePadding(hidden_units, hidden_units, 5, stride=2)\n",
    "            self.conv6 = Conv1dSamePadding(hidden_units, hidden_units, 5, stride=2)\n",
    "            self.conv7 = Conv1dSamePadding(hidden_units, hidden_units, 5, stride=2)\n",
    "            self.conv8 = Conv1dSamePadding(hidden_units, hidden_units, 5, stride=2)\n",
    "            self.conv9 = nn.Conv1d(hidden_units, hidden_units, 2, stride=2)\n",
    "            self.convt1 = nn.ConvTranspose1d(hidden_units, hidden_units, 2, stride=2)\n",
    "            self.convt2 = Conv1dTransposeSamePadding(hidden_units, hidden_units, 5, stride=2)\n",
    "            self.convt3 = Conv1dTransposeSamePadding(hidden_units, hidden_units, 5, stride=2)\n",
    "            self.convt4 = Conv1dTransposeSamePadding(hidden_units, hidden_units, 5, stride=2)\n",
    "            self.convt5 = Conv1dTransposeSamePadding(hidden_units, hidden_units, 5, stride=2)\n",
    "            self.convt6 = Conv1dTransposeSamePadding(hidden_units, hidden_units, 5, stride=2)\n",
    "            self.convt7 = Conv1dTransposeSamePadding(hidden_units, hidden_units, 5, stride=2)\n",
    "            self.convt8 = Conv1dTransposeSamePadding(hidden_units, hidden_units, 5, stride=2)\n",
    "            self.convt9 = Conv1dTransposeSamePadding(hidden_units, hidden_units, 5, stride=2)\n",
    "            self.convt10 = Conv1dTransposeSamePadding(hidden_units, hidden_units, 5, stride=2)\n",
    "            self.conv = nn.Conv1d(hidden_units, units_out, 1, stride=1)\n",
    "\n",
    "        def forward(self, x):\n",
    "            batch_size = x.shape[0]\n",
    "\n",
    "            x = torch.swapaxes(x, 1, 2)\n",
    "            x = self.conv1(x)\n",
    "            x = self.conv2(x)\n",
    "            x = self.conv3(x)\n",
    "            x = self.conv4(x)\n",
    "            x = self.conv5(x)\n",
    "            x = self.conv6(x)\n",
    "            x = self.conv7(x)\n",
    "            x = self.conv8(x)\n",
    "            x = self.conv9(x)\n",
    "            x = self.convt1(x)\n",
    "            x = self.convt2(x)\n",
    "            x = self.convt3(x)\n",
    "            x = self.convt4(x)\n",
    "            x = self.convt5(x)\n",
    "            x = self.convt6(x)\n",
    "            x = self.convt7(x)\n",
    "            x = self.convt8(x)\n",
    "            x = self.convt9(x)\n",
    "            x = self.convt10(x)\n",
    "            x = self.conv(x)\n",
    "            x = torch.swapaxes(x, 1, 2)\n",
    "\n",
    "            return x\n",
    "        \n",
    "    model = S2S(4, 1, 16)\n",
    "    loss_function = nn.MSELoss()\n",
    "    optimizer = torch.optim.Adam(model.parameters(), lr=0.001)\n",
    "    device = 'cpu'\n",
    "    print(model)\n",
    "else:\n",
    "    x0 = keras.layers.Input(shape=(in_steps, 4))\n",
    "    x = keras.layers.Conv1D(16, 5, strides=2, padding='same')(x0)\n",
    "    x = keras.layers.Conv1D(16, 5, strides=2, padding='same')(x)\n",
    "    x = keras.layers.Conv1D(16, 5, strides=2, padding='same')(x)\n",
    "    x = keras.layers.Conv1D(16, 5, strides=2, padding='same')(x)\n",
    "    x = keras.layers.Conv1D(16, 5, strides=2, padding='same')(x)\n",
    "    x = keras.layers.Conv1D(16, 5, strides=2, padding='same')(x)\n",
    "    x = keras.layers.Conv1D(16, 5, strides=2, padding='same')(x)\n",
    "    x = keras.layers.Conv1D(16, 5, strides=2, padding='same')(x)\n",
    "    x = keras.layers.Conv1D(16, 2, strides=2)(x)\n",
    "    x = keras.layers.Conv1DTranspose(16, 2, strides=2)(x)\n",
    "    x = keras.layers.Conv1DTranspose(16, 5, strides=2, padding='same')(x)\n",
    "    x = keras.layers.Conv1DTranspose(16, 5, strides=2, padding='same')(x)\n",
    "    x = keras.layers.Conv1DTranspose(16, 5, strides=2, padding='same')(x)\n",
    "    x = keras.layers.Conv1DTranspose(16, 5, strides=2, padding='same')(x)\n",
    "    x = keras.layers.Conv1DTranspose(16, 5, strides=2, padding='same')(x)\n",
    "    x = keras.layers.Conv1DTranspose(16, 5, strides=2, padding='same')(x)\n",
    "    x = keras.layers.Conv1DTranspose(16, 5, strides=2, padding='same')(x)\n",
    "    x = keras.layers.Conv1DTranspose(16, 5, strides=2, padding='same')(x)\n",
    "    x = keras.layers.Conv1DTranspose(16, 5, strides=2, padding='same')(x)\n",
    "    x = keras.layers.Conv1D(1, 1, strides=1, padding='same')(x)\n",
    "\n",
    "    model = keras.models.Model(inputs=x0, outputs=x)\n",
    "    model.summary()\n",
    "\n",
    "    optimizer = keras.optimizers.Adam(lr=0.001)\n",
    "    model.compile(loss='mse', optimizer=optimizer, metrics=['mae'])\n",
    "    \n",
    "    device = None\n",
    "    loss_function = None\n",
    "    optimizer = None"
   ]
  },
  {
   "cell_type": "markdown",
   "id": "5223e7d1-678d-4403-8fc0-c4fd522fe9ec",
   "metadata": {},
   "source": [
    "### Train the model"
   ]
  },
  {
   "cell_type": "code",
   "execution_count": 16,
   "id": "469b7763-f428-4dae-b157-9cee99224b88",
   "metadata": {},
   "outputs": [
    {
     "name": "stdout",
     "output_type": "stream",
     "text": [
      "Epoch: 1/2 - Batch: 1777/1777 - 57.2s 32ms/step - Loss: 0.014197 - Validation Loss: 0.000046\n",
      "Epoch: 2/2 - Batch: 1777/1777 - 57.4s 32ms/step - Loss: 0.000184 - Validation Loss: 0.000001\n"
     ]
    },
    {
     "data": {
      "text/plain": [
       "{'train': 5.820209335489791e-06,\n",
       " 'val': 8.31759345374067e-07,\n",
       " 'test': 2.880931337331819e-07}"
      ]
     },
     "execution_count": 16,
     "metadata": {},
     "output_type": "execute_result"
    }
   ],
   "source": [
    "epochs = 2\n",
    "batch_size = 32\n",
    "\n",
    "trainer.train(model, epochs, batch_size=batch_size, loss_func=loss_function,\n",
    "        optimizer=optimizer, device=device)"
   ]
  },
  {
   "cell_type": "code",
   "execution_count": 15,
   "id": "7d3d02b4-d059-411d-a019-1e2f4ec2a8b2",
   "metadata": {},
   "outputs": [
    {
     "name": "stderr",
     "output_type": "stream",
     "text": [
      "2022-08-09 19:50:32.753115: W tensorflow/core/framework/cpu_allocator_impl.cc:82] Allocation of 443645952 exceeds 10% of free system memory.\n",
      "2022-08-09 19:50:33.098016: W tensorflow/core/framework/cpu_allocator_impl.cc:82] Allocation of 221822976 exceeds 10% of free system memory.\n"
     ]
    },
    {
     "name": "stdout",
     "output_type": "stream",
     "text": [
      "Epoch 1/2\n",
      "  10/1693 [..............................] - ETA: 28s - loss: 0.4506 - mae: 0.5958"
     ]
    },
    {
     "name": "stderr",
     "output_type": "stream",
     "text": [
      "2022-08-09 19:50:34.833873: W tensorflow/core/framework/cpu_allocator_impl.cc:82] Allocation of 18513920 exceeds 10% of free system memory.\n",
      "2022-08-09 19:50:34.834515: W tensorflow/core/framework/cpu_allocator_impl.cc:82] Allocation of 21708800 exceeds 10% of free system memory.\n",
      "2022-08-09 19:50:34.835214: W tensorflow/core/framework/cpu_allocator_impl.cc:82] Allocation of 23756800 exceeds 10% of free system memory.\n"
     ]
    },
    {
     "name": "stdout",
     "output_type": "stream",
     "text": [
      "1693/1693 [==============================] - 30s 17ms/step - loss: 0.0050 - mae: 0.0187 - val_loss: 1.1955e-05 - val_mae: 0.0027\n",
      "Epoch 2/2\n",
      "1693/1693 [==============================] - 28s 16ms/step - loss: 1.4836e-04 - mae: 0.0080 - val_loss: 1.2898e-05 - val_mae: 0.0029\n",
      "847/847 [==============================] - 8s 10ms/step - loss: 1.2880e-05 - mae: 0.0029\n",
      "174/174 [==============================] - 2s 10ms/step - loss: 1.2898e-05 - mae: 0.0029\n",
      "89/89 [==============================] - 1s 10ms/step - loss: 1.2714e-05 - mae: 0.0029\n"
     ]
    },
    {
     "data": {
      "text/plain": [
       "{'train': [1.2880488611699548e-05, 0.002918094862252474],\n",
       " 'val': [1.2898417480755597e-05, 0.002919031772762537],\n",
       " 'test': [1.2713904652628116e-05, 0.002904004417359829]}"
      ]
     },
     "execution_count": 15,
     "metadata": {},
     "output_type": "execute_result"
    }
   ],
   "source": [
    "epochs = 2\n",
    "batch_size = 32\n",
    "\n",
    "trainer.train(model, epochs, batch_size=batch_size, loss_func=loss_function,\n",
    "        optimizer=optimizer, device=device)"
   ]
  },
  {
   "cell_type": "markdown",
   "id": "8027510d-54de-43d0-8a93-65cdf0a97c06",
   "metadata": {},
   "source": [
    "### Test Model"
   ]
  },
  {
   "cell_type": "markdown",
   "id": "860d8020-2875-49ac-b747-f26ae5067110",
   "metadata": {},
   "source": [
    "Predict all forecasts over the downloaded testing data using the default stride (out_steps)"
   ]
  },
  {
   "cell_type": "code",
   "execution_count": 16,
   "id": "527fa89a-fc87-4567-833f-be722560a340",
   "metadata": {},
   "outputs": [],
   "source": [
    "predictions = tester.test(model)"
   ]
  },
  {
   "cell_type": "code",
   "execution_count": 17,
   "id": "d20934dd-6b5d-406c-8577-0d021ab164ff",
   "metadata": {},
   "outputs": [
    {
     "data": {
      "image/png": "[encoded data removed]",
      "text/plain": [
       "<Figure size 432x288 with 1 Axes>"
      ]
     },
     "metadata": {
      "needs_background": "light"
     },
     "output_type": "display_data"
    }
   ],
   "source": [
    "tester.forecast_plot(predictions, 0, 'vector_0')"
   ]
  },
  {
   "cell_type": "code",
   "execution_count": 18,
   "id": "1e4a0265-7c84-4666-8fe3-97a9b2f984cd",
   "metadata": {},
   "outputs": [
    {
     "data": {
      "image/png": "[encoded data removed]",
      "text/plain": [
       "<Figure size 432x288 with 1 Axes>"
      ]
     },
     "metadata": {
      "needs_background": "light"
     },
     "output_type": "display_data"
    }
   ],
   "source": [
    "tester.forecast_plot(predictions, -1, 'vector_0')"
   ]
  },
  {
   "cell_type": "code",
   "execution_count": 19,
   "id": "4955cc4d-374c-4779-a116-aa6eab69522d",
   "metadata": {},
   "outputs": [
    {
     "data": {
      "text/plain": [
       "{'forecast': (array([  512,   513,   514, ..., 11773, 11774, 11775],\n",
       "        dtype='timedelta64[s]'),\n",
       "  array([ 0.4575257 ,  0.43503672,  0.4304811 , ..., -0.92879343,\n",
       "         -0.9276579 , -0.9231007 ], dtype=float32)),\n",
       " 'truth': (array([    0,     1,     2, ..., 10797, 10798, 10799],\n",
       "        dtype='timedelta64[s]'),\n",
       "  array([ 3.13682897e-14,  5.23596397e-03,  1.04717845e-02, ...,\n",
       "         -1.57073177e-02, -1.04717845e-02, -5.23596397e-03], dtype=float32))}"
      ]
     },
     "execution_count": 19,
     "metadata": {},
     "output_type": "execute_result"
    }
   ],
   "source": [
    "tester.forecast_plot(predictions, -1, 'vector_0', return_data=True)"
   ]
  },
  {
   "cell_type": "markdown",
   "id": "3ea4ad1f-e31a-406f-8f37-bd461fcb7025",
   "metadata": {},
   "source": [
    "©️ 2022 The Johns Hopkins University Applied Physics Laboratory LLC."
   ]
  }
 ],
 "metadata": {
  "kernelspec": {
   "display_name": "Python [conda env:HAPINN]",
   "language": "python",
   "name": "conda-env-HAPINN-py"
  },
  "language_info": {
   "codemirror_mode": {
    "name": "ipython",
    "version": 3
   },
   "file_extension": ".py",
   "mimetype": "text/x-python",
   "name": "python",
   "nbconvert_exporter": "python",
   "pygments_lexer": "ipython3",
   "version": "3.10.5"
  }
 },
 "nbformat": 4,
 "nbformat_minor": 5
}

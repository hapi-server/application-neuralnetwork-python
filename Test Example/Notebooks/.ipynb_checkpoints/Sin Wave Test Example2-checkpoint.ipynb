{
 "cells": [
  {
   "cell_type": "markdown",
   "id": "5f6e4989",
   "metadata": {
    "tags": []
   },
   "source": [
    "# Sin Wave Test Example\n",
    "This example tests the code by training on inputing and outputing the first half of the same points along a sin wave."
   ]
  },
  {
   "cell_type": "markdown",
   "id": "1fd8bfd6",
   "metadata": {
    "tags": []
   },
   "source": [
    "## Setup\n",
    "Import HAPI and other packages"
   ]
  },
  {
   "cell_type": "code",
   "execution_count": 1,
   "id": "7b559061",
   "metadata": {},
   "outputs": [],
   "source": [
    "from hapiclient import hapi, hapitime2datetime\n",
    "from datetime import datetime\n",
    "from hapiplot import hapiplot\n",
    "from hapi_nn import HAPINNTrainer, HAPINNTester, config\n",
    "import hapi_nn\n",
    "import numpy as np\n",
    "import math\n",
    "import warnings\n",
    "import matplotlib.pyplot as plt\n",
    "%matplotlib inline"
   ]
  },
  {
   "cell_type": "code",
   "execution_count": 2,
   "id": "73709017-152f-4867-8c2d-902fc417707b",
   "metadata": {},
   "outputs": [],
   "source": [
    "warnings.simplefilter('always')"
   ]
  },
  {
   "cell_type": "markdown",
   "id": "03df6b9b-6db9-431e-aaae-4a49941d1d87",
   "metadata": {
    "tags": []
   },
   "source": [
    "### HAPI Setup\n",
    "Set HAPI related parameters"
   ]
  },
  {
   "cell_type": "code",
   "execution_count": 3,
   "id": "7ba4ce64-1409-43f7-b1d2-89bfe58236cc",
   "metadata": {},
   "outputs": [],
   "source": [
    "config.MODEL_ENGINE = 'TORCH'\n",
    "\n",
    "server = 'http://hapi-server.org/servers/TestData2.0/hapi'\n",
    "dataset = 'dataset1'\n",
    "start = '1970-01-01T00:00:00Z'\n",
    "stop = '1970-01-02T00:00:00Z'\n",
    "\n",
    "start2 = '1970-01-02T01:00:00Z'\n",
    "stop2 = '1970-01-02T02:00:00Z'\n",
    "\n",
    "parameters = 'vector'\n",
    "options = {'logging': True, 'usecache': True, 'cachedir': './hapicache'}"
   ]
  },
  {
   "cell_type": "markdown",
   "id": "ccb35f1c-5144-494d-9006-72234172e796",
   "metadata": {},
   "source": [
    "## HAPI-NN Testing\n",
    "Begin testing HAPI-NN"
   ]
  },
  {
   "cell_type": "code",
   "execution_count": 4,
   "id": "45629a58-186a-4d85-a8bd-b1c6cbeb1ce3",
   "metadata": {},
   "outputs": [],
   "source": [
    "in_steps = 512\n",
    "out_steps = 128"
   ]
  },
  {
   "cell_type": "markdown",
   "id": "e2d8d507-8b17-49fe-8794-bc164e1da4c6",
   "metadata": {},
   "source": [
    "### Create Trainer and Tester as well as load data with HAPI"
   ]
  },
  {
   "cell_type": "markdown",
   "id": "fd5caa4a-fbc8-41d4-8fe0-bc74ffaea592",
   "metadata": {},
   "source": [
    "Create Trainer"
   ]
  },
  {
   "cell_type": "code",
   "execution_count": 5,
   "id": "139758d9-be16-4128-8f92-63066325d431",
   "metadata": {},
   "outputs": [],
   "source": [
    "splits = (.7, .2, .1)  # Train, Validation, Test\n",
    "    \n",
    "trainer = HAPINNTrainer(\n",
    "    splits, in_steps, out_steps,\n",
    "    preprocess_func=None,\n",
    "    preprocess_y_func=None,\n",
    "    lag=False\n",
    ")"
   ]
  },
  {
   "cell_type": "markdown",
   "id": "fb61b620-a667-408e-8e32-05932e57c026",
   "metadata": {},
   "source": [
    "Load data for Training"
   ]
  },
  {
   "cell_type": "markdown",
   "id": "f74ecf49-686f-43b3-8ab1-7b6f68d7407d",
   "metadata": {},
   "source": [
    "Model input will come from vector in HAPI dataset and will be the first and second element in the column. The output comes from the third element in the column.\n",
    "The input is not lagged behind the output, so we are not forecasting the outputs based on the inputs."
   ]
  },
  {
   "cell_type": "code",
   "execution_count": 6,
   "id": "fbc6ad35-7834-4f8b-a64e-35675309cabb",
   "metadata": {},
   "outputs": [
    {
     "name": "stdout",
     "output_type": "stream",
     "text": [
      "hapi(): Running hapi.py version 0.2.4\n",
      "hapi(): file directory = ./hapicache/hapi-server.org_servers_TestData2.0_hapi\n",
      "hapi(): Reading dataset1_vector_19700101T000000_19700102T000000.pkl\n",
      "hapi(): Reading dataset1_vector_19700101T000000_19700102T000000.npy \n"
     ]
    },
    {
     "name": "stderr",
     "output_type": "stream",
     "text": [
      "/home/jovyan/HAPI_NN/hapi_nn/training.py:144: UserWarning: Time gaps exist in the data.\n",
      "  warnings.warn('Time gaps exist in the data.')\n",
      "/home/jovyan/HAPI_NN/hapi_nn/training.py:185: UserWarning: Removed data gab at index 0. Length of gab (10) was too small. Split size (0) is less than minimum step size (512).\n",
      "  warnings.warn(f'Removed data gab at index {ndx}. '\n",
      "/home/jovyan/HAPI_NN/hapi_nn/training.py:190: UserWarning: Data points with time gaps that caused too small of splits where removed. Removed 1 out of 2 gaps.\n",
      "  warnings.warn('Data points with time gaps that caused '\n"
     ]
    },
    {
     "data": {
      "text/plain": [
       "1.0"
      ]
     },
     "execution_count": 6,
     "metadata": {},
     "output_type": "execute_result"
    }
   ],
   "source": [
    "data, meta = hapi(server, dataset, parameters, start, stop, **options)\n",
    "trainer.set_hapidatas([data], xyparameters=[['vector_0', 'vector_1'], ['vector_2']])"
   ]
  },
  {
   "cell_type": "markdown",
   "id": "57245849-05f1-49fb-8f67-11b67170346e",
   "metadata": {},
   "source": [
    "Prepare the downloaded data for training"
   ]
  },
  {
   "cell_type": "code",
   "execution_count": 7,
   "id": "43d5f4b9-5d1a-49ee-a314-240cf1ec99fc",
   "metadata": {},
   "outputs": [
    {
     "name": "stderr",
     "output_type": "stream",
     "text": [
      "/home/jovyan/HAPI_NN/hapi_nn/training.py:361: VisibleDeprecationWarning: Creating an ndarray from ragged nested sequences (which is a list-or-tuple of lists-or-tuples-or ndarrays with different lengths or shapes) is deprecated. If you meant to do this, you must specify 'dtype=object' when creating the ndarray.\n",
      "  data = np.array(data)\n",
      "/home/jovyan/HAPI_NN/hapi_nn/training.py:372: VisibleDeprecationWarning: Creating an ndarray from ragged nested sequences (which is a list-or-tuple of lists-or-tuples-or ndarrays with different lengths or shapes) is deprecated. If you meant to do this, you must specify 'dtype=object' when creating the ndarray.\n",
      "  data = np.array(remerge_data)\n",
      "/home/jovyan/HAPI_NN/hapi_nn/training.py:375: VisibleDeprecationWarning: Creating an ndarray from ragged nested sequences (which is a list-or-tuple of lists-or-tuples-or ndarrays with different lengths or shapes) is deprecated. If you meant to do this, you must specify 'dtype=object' when creating the ndarray.\n",
      "  y_data = np.array(y_data)\n",
      "/home/jovyan/HAPI_NN/hapi_nn/training.py:386: VisibleDeprecationWarning: Creating an ndarray from ragged nested sequences (which is a list-or-tuple of lists-or-tuples-or ndarrays with different lengths or shapes) is deprecated. If you meant to do this, you must specify 'dtype=object' when creating the ndarray.\n",
      "  y_data = np.array(remerge_data)\n"
     ]
    },
    {
     "data": {
      "text/plain": [
       "(0.7175105563604394, 0.18849140012630483, 0.09399804351325582)"
      ]
     },
     "execution_count": 7,
     "metadata": {},
     "output_type": "execute_result"
    }
   ],
   "source": [
    "trainer.prepare_data()"
   ]
  },
  {
   "cell_type": "markdown",
   "id": "dc627349-8b80-441e-9ab5-3abb21f78b41",
   "metadata": {},
   "source": [
    "Test saving and loading"
   ]
  },
  {
   "cell_type": "code",
   "execution_count": 8,
   "id": "e1a908fe-80f3-440b-80af-41c27646123e",
   "metadata": {},
   "outputs": [],
   "source": [
    "trainer.save_prepared_data('data')"
   ]
  },
  {
   "cell_type": "code",
   "execution_count": 9,
   "id": "5abed8cb-845b-47b4-a8b4-536fcaeba27b",
   "metadata": {},
   "outputs": [],
   "source": [
    "trainer.load_prepared_data('./data')"
   ]
  },
  {
   "cell_type": "markdown",
   "id": "090267f3-f6fe-4d6a-94bd-adc6604180b9",
   "metadata": {},
   "source": [
    "Create Tester"
   ]
  },
  {
   "cell_type": "code",
   "execution_count": 10,
   "id": "8a26dd4c-07af-4b02-9f66-a847dd877665",
   "metadata": {},
   "outputs": [],
   "source": [
    "tester = HAPINNTester(\n",
    "    in_steps, out_steps,\n",
    "    preprocess_func=None,\n",
    "    preprocess_y_func=None\n",
    ")"
   ]
  },
  {
   "cell_type": "markdown",
   "id": "09a53ea4-7ec8-4b45-8eb5-1f0288ca24f7",
   "metadata": {},
   "source": [
    "Load data for testing"
   ]
  },
  {
   "cell_type": "code",
   "execution_count": 11,
   "id": "6d4f1eed-81bb-468f-8ba6-17dc4f5e9301",
   "metadata": {},
   "outputs": [
    {
     "name": "stdout",
     "output_type": "stream",
     "text": [
      "hapi(): Running hapi.py version 0.2.4\n",
      "hapi(): file directory = ./hapicache/hapi-server.org_servers_TestData2.0_hapi\n",
      "hapi(): Reading dataset1_vector_19700102T010000_19700102T020000.pkl\n",
      "hapi(): Reading dataset1_vector_19700102T010000_19700102T020000.npy \n"
     ]
    },
    {
     "data": {
      "text/plain": [
       "1.0"
      ]
     },
     "execution_count": 11,
     "metadata": {},
     "output_type": "execute_result"
    }
   ],
   "source": [
    "data, meta = hapi(server, dataset, parameters, start2, stop2, **options)\n",
    "tester.set_hapidatas([data], xyparameters=[['vector_0', 'vector_1'], ['vector_2']])"
   ]
  },
  {
   "cell_type": "markdown",
   "id": "1e2e4b0d-7390-44f2-b889-bebd42004d8f",
   "metadata": {},
   "source": [
    "Prepare data for testing"
   ]
  },
  {
   "cell_type": "code",
   "execution_count": 12,
   "id": "78b5c328-df3e-4e8a-b4b2-9a1e6fba25e3",
   "metadata": {},
   "outputs": [],
   "source": [
    "tester.prepare_data()"
   ]
  },
  {
   "cell_type": "markdown",
   "id": "26da9ec6-7f9a-42df-8832-f4f8ed6d9c9d",
   "metadata": {
    "tags": []
   },
   "source": [
    "### Create Models and Train"
   ]
  },
  {
   "cell_type": "markdown",
   "id": "ac2f2137-9cde-4926-b8ad-8b56950b1830",
   "metadata": {},
   "source": [
    "Import either the modules for PyTorch or TensorFlow"
   ]
  },
  {
   "cell_type": "code",
   "execution_count": 13,
   "id": "dfe068d8-b3d4-4c05-b8eb-621909f20354",
   "metadata": {},
   "outputs": [],
   "source": [
    "if config.MODEL_ENGINE == 'TORCH':\n",
    "    import torch\n",
    "    import torch.nn as nn\n",
    "    from torch.utils.data import TensorDataset, DataLoader\n",
    "else:\n",
    "    import tensorflow as tf\n",
    "    from tensorflow import keras"
   ]
  },
  {
   "cell_type": "markdown",
   "id": "ec270144-30b6-4cf4-8c23-d578aa094875",
   "metadata": {},
   "source": [
    "Create PyTorch Module or TensorFlow Model"
   ]
  },
  {
   "cell_type": "code",
   "execution_count": 14,
   "id": "75ccfa84-476b-43da-95be-acf7bcdcb83a",
   "metadata": {
    "tags": []
   },
   "outputs": [
    {
     "name": "stdout",
     "output_type": "stream",
     "text": [
      "S2S(\n",
      "  (conv1): Conv1dSamePadding(2, 16, kernel_size=(5,), stride=(2,))\n",
      "  (conv2): Conv1dSamePadding(16, 16, kernel_size=(5,), stride=(2,))\n",
      "  (conv3): Conv1dSamePadding(16, 16, kernel_size=(5,), stride=(2,))\n",
      "  (conv4): Conv1dSamePadding(16, 16, kernel_size=(5,), stride=(2,))\n",
      "  (conv5): Conv1dSamePadding(16, 16, kernel_size=(5,), stride=(2,))\n",
      "  (conv6): Conv1dSamePadding(16, 16, kernel_size=(5,), stride=(2,))\n",
      "  (conv7): Conv1dSamePadding(16, 16, kernel_size=(5,), stride=(2,))\n",
      "  (conv8): Conv1dSamePadding(16, 16, kernel_size=(5,), stride=(2,))\n",
      "  (convt1): Conv1dTransposeSamePadding(16, 16, kernel_size=(5,), stride=(2,))\n",
      "  (convt2): Conv1dTransposeSamePadding(16, 16, kernel_size=(5,), stride=(2,))\n",
      "  (convt3): Conv1dTransposeSamePadding(16, 16, kernel_size=(5,), stride=(2,))\n",
      "  (convt4): Conv1dTransposeSamePadding(16, 16, kernel_size=(5,), stride=(2,))\n",
      "  (convt5): Conv1dTransposeSamePadding(16, 16, kernel_size=(5,), stride=(2,))\n",
      "  (convt6): Conv1dTransposeSamePadding(16, 16, kernel_size=(5,), stride=(2,))\n",
      "  (conv): Conv1d(16, 1, kernel_size=(1,), stride=(1,))\n",
      ")\n"
     ]
    }
   ],
   "source": [
    "if config.MODEL_ENGINE == 'TORCH':\n",
    "    class Conv1dSamePadding(nn.Conv1d):\n",
    "        def forward(self, x):\n",
    "            pad = max(\n",
    "                (math.ceil(x.size()[-1] / self.stride[0]) - 1) *\n",
    "                self.stride[0] + (self.kernel_size[0] - 1) + 1 - x.size()[-1], 0\n",
    "            )\n",
    "            if pad > 1:\n",
    "                x = nn.functional.pad(x, (pad // 2, 1 + pad // 2))\n",
    "            return  self._conv_forward(x, self.weight, self.bias)\n",
    "\n",
    "    class Conv1dTransposeSamePadding(nn.ConvTranspose1d):\n",
    "        def forward(self, x):\n",
    "            pad = max(\n",
    "                (math.ceil(x.size()[-1] / self.stride[0]) - 1) *\n",
    "                self.stride[0] + (self.kernel_size[0] - 1) + 1 - x.size()[-1], 0\n",
    "            )\n",
    "            x = nn.ConvTranspose1d.forward(self, x)\n",
    "            return x[:, :, pad // 2:-(1 + pad // 2)]\n",
    "        \n",
    "    class S2S(nn.Module):\n",
    "        def __init__(self, units_in, units_out, hidden_units):\n",
    "            super().__init__()\n",
    "            self.units_in = units_in\n",
    "            self.units_out = units_out\n",
    "            self.hidden_units = hidden_units\n",
    "\n",
    "            self.conv1 = Conv1dSamePadding(units_in, hidden_units, 5, stride=2)\n",
    "            self.conv2 = Conv1dSamePadding(hidden_units, hidden_units, 5, stride=2)\n",
    "            self.conv3 = Conv1dSamePadding(hidden_units, hidden_units, 5, stride=2)\n",
    "            self.conv4 = Conv1dSamePadding(hidden_units, hidden_units, 5, stride=2)\n",
    "            self.conv5 = Conv1dSamePadding(hidden_units, hidden_units, 5, stride=2)\n",
    "            self.conv6 = Conv1dSamePadding(hidden_units, hidden_units, 5, stride=2)\n",
    "            self.conv7 = Conv1dSamePadding(hidden_units, hidden_units, 5, stride=2)\n",
    "            self.conv8 = Conv1dSamePadding(hidden_units, hidden_units, 5, stride=2)\n",
    "            self.convt1 = Conv1dTransposeSamePadding(hidden_units, hidden_units, 5, stride=2)\n",
    "            self.convt2 = Conv1dTransposeSamePadding(hidden_units, hidden_units, 5, stride=2)\n",
    "            self.convt3 = Conv1dTransposeSamePadding(hidden_units, hidden_units, 5, stride=2)\n",
    "            self.convt4 = Conv1dTransposeSamePadding(hidden_units, hidden_units, 5, stride=2)\n",
    "            self.convt5 = Conv1dTransposeSamePadding(hidden_units, hidden_units, 5, stride=2)\n",
    "            self.convt6 = Conv1dTransposeSamePadding(hidden_units, hidden_units, 5, stride=2)\n",
    "            self.conv = nn.Conv1d(hidden_units, units_out, 1, stride=1)\n",
    "\n",
    "        def forward(self, x):\n",
    "            batch_size = x.shape[0]\n",
    "\n",
    "            x = torch.swapaxes(x, 1, 2)\n",
    "            x = self.conv1(x)\n",
    "            x = self.conv2(x)\n",
    "            x = self.conv3(x)\n",
    "            x = self.conv4(x)\n",
    "            x = self.conv5(x)\n",
    "            x = self.conv6(x)\n",
    "            x = self.conv7(x)\n",
    "            x = self.conv8(x)\n",
    "            x = self.convt1(x)\n",
    "            x = self.convt2(x)\n",
    "            x = self.convt3(x)\n",
    "            x = self.convt4(x)\n",
    "            x = self.convt5(x)\n",
    "            x = self.convt6(x)\n",
    "            x = self.conv(x)\n",
    "            x = torch.swapaxes(x, 1, 2)\n",
    "\n",
    "            return x\n",
    "        \n",
    "    model = S2S(2, 1, 16)\n",
    "    loss_function = nn.MSELoss()\n",
    "    optimizer = torch.optim.Adam(model.parameters(), lr=0.001)\n",
    "    device = 'cpu'\n",
    "    print(model)\n",
    "else:    \n",
    "    x0 = keras.layers.Input(shape=(in_steps, 2))\n",
    "    x = keras.layers.Conv1D(16, 5, strides=2, padding='same')(x0)\n",
    "    x = keras.layers.Conv1D(16, 5, strides=2, padding='same')(x)\n",
    "    x = keras.layers.Conv1D(16, 5, strides=2, padding='same')(x)\n",
    "    x = keras.layers.Conv1D(16, 5, strides=2, padding='same')(x)\n",
    "    x = keras.layers.Conv1D(16, 5, strides=2, padding='same')(x)\n",
    "    x = keras.layers.Conv1D(16, 5, strides=2, padding='same')(x)\n",
    "    x = keras.layers.Conv1D(16, 5, strides=2, padding='same')(x)\n",
    "    x = keras.layers.Conv1D(16, 5, strides=2, padding='same')(x)\n",
    "    x = keras.layers.Conv1DTranspose(16, 5, strides=2, padding='same')(x)\n",
    "    x = keras.layers.Conv1DTranspose(16, 5, strides=2, padding='same')(x)\n",
    "    x = keras.layers.Conv1DTranspose(16, 5, strides=2, padding='same')(x)\n",
    "    x = keras.layers.Conv1DTranspose(16, 5, strides=2, padding='same')(x)\n",
    "    x = keras.layers.Conv1DTranspose(16, 5, strides=2, padding='same')(x)\n",
    "    x = keras.layers.Conv1DTranspose(16, 5, strides=2, padding='same')(x)\n",
    "    x = keras.layers.Conv1D(1, 1, strides=1, padding='same')(x)\n",
    "\n",
    "    model = keras.models.Model(inputs=x0, outputs=x)\n",
    "    model.summary()\n",
    "\n",
    "    optimizer = keras.optimizers.Adam(lr=0.001)\n",
    "    model.compile(loss='mse', optimizer=optimizer, metrics=['mae'])\n",
    "    \n",
    "    device = None\n",
    "    loss_function = None\n",
    "    optimizer = None"
   ]
  },
  {
   "cell_type": "markdown",
   "id": "5223e7d1-678d-4403-8fc0-c4fd522fe9ec",
   "metadata": {},
   "source": [
    "### Train the model"
   ]
  },
  {
   "cell_type": "code",
   "execution_count": 15,
   "id": "3dbc9972-9ea6-4d9d-9a0e-3e02e0cac2bb",
   "metadata": {},
   "outputs": [
    {
     "name": "stdout",
     "output_type": "stream",
     "text": [
      "Epoch: 1/1 - Batch: 1811/1811 - 21.6s 11ms/step - Loss: 0.007594 - Validation Loss: 0.000001\n"
     ]
    },
    {
     "data": {
      "text/plain": [
       "{'train': 4.309545096684548e-06,\n",
       " 'val': 5.661008700948929e-07,\n",
       " 'test': 2.855941793911457e-07}"
      ]
     },
     "execution_count": 15,
     "metadata": {},
     "output_type": "execute_result"
    }
   ],
   "source": [
    "epochs = 1\n",
    "batch_size = 32\n",
    "\n",
    "trainer.train(model, epochs, batch_size=batch_size, loss_func=loss_function,\n",
    "        optimizer=optimizer, device=device)"
   ]
  },
  {
   "cell_type": "code",
   "execution_count": 17,
   "id": "7d3d02b4-d059-411d-a019-1e2f4ec2a8b2",
   "metadata": {},
   "outputs": [
    {
     "name": "stderr",
     "output_type": "stream",
     "text": [
      "2022-07-01 21:52:13.491808: W tensorflow/core/framework/cpu_allocator_impl.cc:82] Allocation of 242733056 exceeds 10% of free system memory.\n"
     ]
    },
    {
     "name": "stdout",
     "output_type": "stream",
     "text": [
      "1852/1852 [==============================] - 15s 8ms/step - loss: 0.0035 - mae: 0.0127 - val_loss: 0.0026 - val_mae: 0.0418\n",
      " 37/926 [>.............................] - ETA: 3s - loss: 0.0025 - mae: 0.0410"
     ]
    },
    {
     "name": "stderr",
     "output_type": "stream",
     "text": [
      "2022-07-01 21:52:29.234230: W tensorflow/core/framework/cpu_allocator_impl.cc:82] Allocation of 242733056 exceeds 10% of free system memory.\n"
     ]
    },
    {
     "name": "stdout",
     "output_type": "stream",
     "text": [
      "926/926 [==============================] - 4s 4ms/step - loss: 0.0026 - mae: 0.0417\n",
      "265/265 [==============================] - 1s 4ms/step - loss: 0.0026 - mae: 0.0418\n",
      "120/120 [==============================] - 1s 4ms/step - loss: 0.0026 - mae: 0.0420\n"
     ]
    },
    {
     "data": {
      "text/plain": [
       "{'train': [0.0025684740394353867, 0.041745200753211975],\n",
       " 'val': [0.0025709427427500486, 0.04180735722184181],\n",
       " 'test': [0.002583264373242855, 0.042035769671201706]}"
      ]
     },
     "execution_count": 17,
     "metadata": {},
     "output_type": "execute_result"
    }
   ],
   "source": [
    "epochs = 1\n",
    "batch_size = 32\n",
    "\n",
    "trainer.train(model, epochs, batch_size=batch_size, loss_func=loss_function,\n",
    "        optimizer=optimizer, device=device)"
   ]
  },
  {
   "cell_type": "markdown",
   "id": "8027510d-54de-43d0-8a93-65cdf0a97c06",
   "metadata": {},
   "source": [
    "### Test Model"
   ]
  },
  {
   "cell_type": "markdown",
   "id": "860d8020-2875-49ac-b747-f26ae5067110",
   "metadata": {},
   "source": [
    "Predict all forecasts over the downloaded testing data using the default stride (out_steps)"
   ]
  },
  {
   "cell_type": "code",
   "execution_count": 16,
   "id": "527fa89a-fc87-4567-833f-be722560a340",
   "metadata": {},
   "outputs": [],
   "source": [
    "predictions = tester.test(model)"
   ]
  },
  {
   "cell_type": "code",
   "execution_count": 17,
   "id": "d20934dd-6b5d-406c-8577-0d021ab164ff",
   "metadata": {},
   "outputs": [
    {
     "data": {
      "image/png": "[encoded data removed]",
      "text/plain": [
       "<Figure size 432x288 with 1 Axes>"
      ]
     },
     "metadata": {
      "needs_background": "light"
     },
     "output_type": "display_data"
    }
   ],
   "source": [
    "tester.plot(predictions, 0, 'vector_2')"
   ]
  },
  {
   "cell_type": "code",
   "execution_count": 18,
   "id": "f598afd9-0541-411e-aece-fd1f1a339732",
   "metadata": {},
   "outputs": [
    {
     "data": {
      "image/png": "[encoded data removed]",
      "text/plain": [
       "<Figure size 432x288 with 1 Axes>"
      ]
     },
     "metadata": {
      "needs_background": "light"
     },
     "output_type": "display_data"
    }
   ],
   "source": [
    "tester.plot(predictions, -1, 'vector_2')"
   ]
  },
  {
   "cell_type": "code",
   "execution_count": 19,
   "id": "1e4a0265-7c84-4666-8fe3-97a9b2f984cd",
   "metadata": {},
   "outputs": [
    {
     "data": {
      "text/plain": [
       "{'prediction': (array([0.000e+00, 1.000e+00, 2.000e+00, ..., 3.197e+03, 3.198e+03,\n",
       "         3.199e+03]),\n",
       "  array([-1.0001853 , -0.9917546 , -0.99935925, ...,  0.51533306,\n",
       "          0.5096742 ,  0.5099354 ], dtype=float32)),\n",
       " 'truth': (array([0.000e+00, 1.000e+00, 2.000e+00, ..., 3.597e+03, 3.598e+03,\n",
       "         3.599e+03]),\n",
       "  array([-1.        , -0.9999863 , -0.99994516, ..., -0.9998766 ,\n",
       "         -0.99994516, -0.9999863 ], dtype=float32))}"
      ]
     },
     "execution_count": 19,
     "metadata": {},
     "output_type": "execute_result"
    }
   ],
   "source": [
    "tester.plot(predictions, -1, 'vector_2', return_data=True)"
   ]
  },
  {
   "cell_type": "markdown",
   "id": "e1671c8c-4af7-4030-8262-ccdc77d46cdc",
   "metadata": {},
   "source": [
    "©️ 2022 The Johns Hopkins University Applied Physics Laboratory LLC."
   ]
  }
 ],
 "metadata": {
  "kernelspec": {
   "display_name": "Python [conda env:HAPINN]",
   "language": "python",
   "name": "conda-env-HAPINN-py"
  },
  "language_info": {
   "codemirror_mode": {
    "name": "ipython",
    "version": 3
   },
   "file_extension": ".py",
   "mimetype": "text/x-python",
   "name": "python",
   "nbconvert_exporter": "python",
   "pygments_lexer": "ipython3",
   "version": "3.10.5"
  }
 },
 "nbformat": 4,
 "nbformat_minor": 5
}
